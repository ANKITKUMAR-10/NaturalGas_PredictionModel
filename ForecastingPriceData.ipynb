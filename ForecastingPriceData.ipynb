{
 "cells": [
  {
   "cell_type": "code",
   "execution_count": 40,
   "id": "d61c14af-e2e8-40fb-8c81-a322d9687b7d",
   "metadata": {},
   "outputs": [
    {
     "name": "stdout",
     "output_type": "stream",
     "text": [
      "Defaulting to user installation because normal site-packages is not writeableNote: you may need to restart the kernel to use updated packages.\n",
      "\n",
      "Requirement already satisfied: pandas in c:\\programdata\\anaconda3\\lib\\site-packages (2.2.3)\n",
      "Requirement already satisfied: numpy in c:\\programdata\\anaconda3\\lib\\site-packages (2.1.3)\n",
      "Requirement already satisfied: matplotlib in c:\\programdata\\anaconda3\\lib\\site-packages (3.10.0)\n",
      "Requirement already satisfied: scikit-learn in c:\\programdata\\anaconda3\\lib\\site-packages (1.6.1)\n",
      "Requirement already satisfied: python-dateutil>=2.8.2 in c:\\programdata\\anaconda3\\lib\\site-packages (from pandas) (2.9.0.post0)\n",
      "Requirement already satisfied: pytz>=2020.1 in c:\\programdata\\anaconda3\\lib\\site-packages (from pandas) (2024.1)\n",
      "Requirement already satisfied: tzdata>=2022.7 in c:\\programdata\\anaconda3\\lib\\site-packages (from pandas) (2025.2)\n",
      "Requirement already satisfied: contourpy>=1.0.1 in c:\\programdata\\anaconda3\\lib\\site-packages (from matplotlib) (1.3.1)\n",
      "Requirement already satisfied: cycler>=0.10 in c:\\programdata\\anaconda3\\lib\\site-packages (from matplotlib) (0.11.0)\n",
      "Requirement already satisfied: fonttools>=4.22.0 in c:\\programdata\\anaconda3\\lib\\site-packages (from matplotlib) (4.55.3)\n",
      "Requirement already satisfied: kiwisolver>=1.3.1 in c:\\programdata\\anaconda3\\lib\\site-packages (from matplotlib) (1.4.8)\n",
      "Requirement already satisfied: packaging>=20.0 in c:\\programdata\\anaconda3\\lib\\site-packages (from matplotlib) (24.2)\n",
      "Requirement already satisfied: pillow>=8 in c:\\programdata\\anaconda3\\lib\\site-packages (from matplotlib) (11.1.0)\n",
      "Requirement already satisfied: pyparsing>=2.3.1 in c:\\programdata\\anaconda3\\lib\\site-packages (from matplotlib) (3.2.0)\n",
      "Requirement already satisfied: scipy>=1.6.0 in c:\\programdata\\anaconda3\\lib\\site-packages (from scikit-learn) (1.15.3)\n",
      "Requirement already satisfied: joblib>=1.2.0 in c:\\programdata\\anaconda3\\lib\\site-packages (from scikit-learn) (1.4.2)\n",
      "Requirement already satisfied: threadpoolctl>=3.1.0 in c:\\programdata\\anaconda3\\lib\\site-packages (from scikit-learn) (3.5.0)\n",
      "Requirement already satisfied: six>=1.5 in c:\\programdata\\anaconda3\\lib\\site-packages (from python-dateutil>=2.8.2->pandas) (1.17.0)\n"
     ]
    }
   ],
   "source": [
    "pip install pandas numpy matplotlib scikit-learn"
   ]
  },
  {
   "cell_type": "code",
   "execution_count": 80,
   "id": "a217297c-fd6c-4748-9195-ac9b7acd3c4e",
   "metadata": {},
   "outputs": [],
   "source": [
    "import pandas as pd\n",
    "import numpy as np\n",
    "import matplotlib.pyplot as plt\n",
    "from sklearn.ensemble import GradientBoostingRegressor\n",
    "from sklearn.model_selection import train_test_split\n",
    "from sklearn.metrics import mean_absolute_error, mean_squared_error\n",
    "from datetime import datetime\n",
    "import warnings"
   ]
  },
  {
   "cell_type": "code",
   "execution_count": 107,
   "id": "e287651d-d94b-4779-8844-0de5130e63ee",
   "metadata": {},
   "outputs": [],
   "source": [
    "warnings.filterwarnings(\"ignore\", category=UserWarning)"
   ]
  },
  {
   "cell_type": "code",
   "execution_count": 117,
   "id": "65295e14-10ef-4e1b-84de-c61f596c696c",
   "metadata": {},
   "outputs": [],
   "source": [
    "csv_path = r\"C:\\singh\\temp\\singh\\Nat_Gas.csv\"\n",
    "df_raw = pd.read_csv(csv_path)"
   ]
  },
  {
   "cell_type": "code",
   "execution_count": 119,
   "id": "6def8361-31e7-467c-84cb-6368a4723273",
   "metadata": {},
   "outputs": [
    {
     "name": "stdout",
     "output_type": "stream",
     "text": [
      "COLUMNS:\n",
      "['Dates', 'Prices']\n",
      "\n",
      "HEAD (first 8 rows):\n"
     ]
    },
    {
     "data": {
      "text/html": [
       "<div>\n",
       "<style scoped>\n",
       "    .dataframe tbody tr th:only-of-type {\n",
       "        vertical-align: middle;\n",
       "    }\n",
       "\n",
       "    .dataframe tbody tr th {\n",
       "        vertical-align: top;\n",
       "    }\n",
       "\n",
       "    .dataframe thead th {\n",
       "        text-align: right;\n",
       "    }\n",
       "</style>\n",
       "<table border=\"1\" class=\"dataframe\">\n",
       "  <thead>\n",
       "    <tr style=\"text-align: right;\">\n",
       "      <th></th>\n",
       "      <th>Dates</th>\n",
       "      <th>Prices</th>\n",
       "    </tr>\n",
       "  </thead>\n",
       "  <tbody>\n",
       "    <tr>\n",
       "      <th>0</th>\n",
       "      <td>10/31/20</td>\n",
       "      <td>10.10</td>\n",
       "    </tr>\n",
       "    <tr>\n",
       "      <th>1</th>\n",
       "      <td>11/30/20</td>\n",
       "      <td>10.30</td>\n",
       "    </tr>\n",
       "    <tr>\n",
       "      <th>2</th>\n",
       "      <td>12/31/20</td>\n",
       "      <td>11.00</td>\n",
       "    </tr>\n",
       "    <tr>\n",
       "      <th>3</th>\n",
       "      <td>1/31/21</td>\n",
       "      <td>10.90</td>\n",
       "    </tr>\n",
       "    <tr>\n",
       "      <th>4</th>\n",
       "      <td>2/28/21</td>\n",
       "      <td>10.90</td>\n",
       "    </tr>\n",
       "    <tr>\n",
       "      <th>5</th>\n",
       "      <td>3/31/21</td>\n",
       "      <td>10.90</td>\n",
       "    </tr>\n",
       "    <tr>\n",
       "      <th>6</th>\n",
       "      <td>4/30/21</td>\n",
       "      <td>10.40</td>\n",
       "    </tr>\n",
       "    <tr>\n",
       "      <th>7</th>\n",
       "      <td>5/31/21</td>\n",
       "      <td>9.84</td>\n",
       "    </tr>\n",
       "  </tbody>\n",
       "</table>\n",
       "</div>"
      ],
      "text/plain": [
       "      Dates  Prices\n",
       "0  10/31/20   10.10\n",
       "1  11/30/20   10.30\n",
       "2  12/31/20   11.00\n",
       "3   1/31/21   10.90\n",
       "4   2/28/21   10.90\n",
       "5   3/31/21   10.90\n",
       "6   4/30/21   10.40\n",
       "7   5/31/21    9.84"
      ]
     },
     "metadata": {},
     "output_type": "display_data"
    }
   ],
   "source": [
    "print(\"COLUMNS:\")\n",
    "print(df_raw.columns.tolist())\n",
    "print(\"\\nHEAD (first 8 rows):\")\n",
    "display(df_raw.head(8))"
   ]
  },
  {
   "cell_type": "code",
   "execution_count": 110,
   "id": "fc2fe0ff-057e-40d5-9aee-8850a29d5ec6",
   "metadata": {},
   "outputs": [
    {
     "name": "stdout",
     "output_type": "stream",
     "text": [
      "Date-likeness score (col, fraction of first-20 values parseable as dates, sample values):\n",
      "('Dates', 1.0, ['10/31/20', '11/30/20', '12/31/20', '1/31/21', '2/28/21'])\n",
      "('Prices', 0.0, ['10.1', '10.3', '11.0', '10.9', '10.9'])\n"
     ]
    }
   ],
   "source": [
    "candidates = []\n",
    "for c in df_raw.columns:\n",
    "    # try parse first 20 non-nulls\n",
    "    sample = df_raw[c].dropna().astype(str).head(20).tolist()\n",
    "    parsed = 0\n",
    "    for s in sample:\n",
    "        try:\n",
    "            pd.to_datetime(s, errors='raise')\n",
    "            parsed += 1\n",
    "        except Exception:\n",
    "            pass\n",
    "    pct = parsed / max(1, len(sample))\n",
    "    candidates.append((c, pct, df_raw[c].dropna().astype(str).head(5).tolist()))\n",
    "\n",
    "print(\"Date-likeness score (col, fraction of first-20 values parseable as dates, sample values):\")\n",
    "for t in candidates:\n",
    "    print(t)\n"
   ]
  },
  {
   "cell_type": "code",
   "execution_count": 120,
   "id": "8049624b-e2fb-44a7-93ea-7676f3abf3b7",
   "metadata": {},
   "outputs": [
    {
     "name": "stdout",
     "output_type": "stream",
     "text": [
      "Numeric columns (likely price candidates): ['Prices']\n",
      "Columns with currency characters (possible price columns): []\n"
     ]
    }
   ],
   "source": [
    "num_cols = df_raw.select_dtypes(include=[np.number]).columns.tolist()\n",
    "print(\"Numeric columns (likely price candidates):\", num_cols)\n",
    "\n",
    "# also show columns that contain currency-like strings\n",
    "str_cols = []\n",
    "for c in df_raw.columns:\n",
    "    if df_raw[c].dropna().astype(str).str.contains(r'[\\$\\£\\€|,]').any():\n",
    "        str_cols.append(c)\n",
    "print(\"Columns with currency characters (possible price columns):\", str_cols)\n"
   ]
  },
  {
   "cell_type": "code",
   "execution_count": 121,
   "id": "6a05880d-b33d-4071-941e-be9bb08b574b",
   "metadata": {},
   "outputs": [
    {
     "name": "stdout",
     "output_type": "stream",
     "text": [
      "Using date_col = Dates and price_col = Prices\n",
      "\n",
      "Parsed sample:\n"
     ]
    },
    {
     "data": {
      "text/html": [
       "<div>\n",
       "<style scoped>\n",
       "    .dataframe tbody tr th:only-of-type {\n",
       "        vertical-align: middle;\n",
       "    }\n",
       "\n",
       "    .dataframe tbody tr th {\n",
       "        vertical-align: top;\n",
       "    }\n",
       "\n",
       "    .dataframe thead th {\n",
       "        text-align: right;\n",
       "    }\n",
       "</style>\n",
       "<table border=\"1\" class=\"dataframe\">\n",
       "  <thead>\n",
       "    <tr style=\"text-align: right;\">\n",
       "      <th></th>\n",
       "      <th>Dates</th>\n",
       "      <th>Prices</th>\n",
       "    </tr>\n",
       "  </thead>\n",
       "  <tbody>\n",
       "    <tr>\n",
       "      <th>0</th>\n",
       "      <td>10/31/20</td>\n",
       "      <td>10.10</td>\n",
       "    </tr>\n",
       "    <tr>\n",
       "      <th>1</th>\n",
       "      <td>11/30/20</td>\n",
       "      <td>10.30</td>\n",
       "    </tr>\n",
       "    <tr>\n",
       "      <th>2</th>\n",
       "      <td>12/31/20</td>\n",
       "      <td>11.00</td>\n",
       "    </tr>\n",
       "    <tr>\n",
       "      <th>3</th>\n",
       "      <td>1/31/21</td>\n",
       "      <td>10.90</td>\n",
       "    </tr>\n",
       "    <tr>\n",
       "      <th>4</th>\n",
       "      <td>2/28/21</td>\n",
       "      <td>10.90</td>\n",
       "    </tr>\n",
       "    <tr>\n",
       "      <th>5</th>\n",
       "      <td>3/31/21</td>\n",
       "      <td>10.90</td>\n",
       "    </tr>\n",
       "    <tr>\n",
       "      <th>6</th>\n",
       "      <td>4/30/21</td>\n",
       "      <td>10.40</td>\n",
       "    </tr>\n",
       "    <tr>\n",
       "      <th>7</th>\n",
       "      <td>5/31/21</td>\n",
       "      <td>9.84</td>\n",
       "    </tr>\n",
       "  </tbody>\n",
       "</table>\n",
       "</div>"
      ],
      "text/plain": [
       "      Dates  Prices\n",
       "0  10/31/20   10.10\n",
       "1  11/30/20   10.30\n",
       "2  12/31/20   11.00\n",
       "3   1/31/21   10.90\n",
       "4   2/28/21   10.90\n",
       "5   3/31/21   10.90\n",
       "6   4/30/21   10.40\n",
       "7   5/31/21    9.84"
      ]
     },
     "metadata": {},
     "output_type": "display_data"
    }
   ],
   "source": [
    "date_col = 'Dates' \n",
    "price_col = 'Prices' \n",
    "\n",
    "print(\"Using date_col =\", date_col, \"and price_col =\", price_col)\n",
    "\n",
    "temp = df_raw[[date_col, price_col]].copy()\n",
    "df[\"Date\"] = pd.to_datetime(df[\"Date\"], errors=\"coerce\")\n",
    "temp[price_col] = pd.to_numeric(temp[price_col].astype(str).str.replace(r'[^\\d\\.\\-]', '', regex=True), errors='coerce')\n",
    "print(\"\\nParsed sample:\")\n",
    "display(temp.head(8))"
   ]
  },
  {
   "cell_type": "code",
   "execution_count": 111,
   "id": "1e5fdb6b-fb95-4590-9695-7574c8438ff7",
   "metadata": {},
   "outputs": [
    {
     "name": "stdout",
     "output_type": "stream",
     "text": [
      "Prepared rows: 48\n",
      "Date range: 2020-10-31 to 2024-09-30\n"
     ]
    },
    {
     "data": {
      "text/html": [
       "<div>\n",
       "<style scoped>\n",
       "    .dataframe tbody tr th:only-of-type {\n",
       "        vertical-align: middle;\n",
       "    }\n",
       "\n",
       "    .dataframe tbody tr th {\n",
       "        vertical-align: top;\n",
       "    }\n",
       "\n",
       "    .dataframe thead th {\n",
       "        text-align: right;\n",
       "    }\n",
       "</style>\n",
       "<table border=\"1\" class=\"dataframe\">\n",
       "  <thead>\n",
       "    <tr style=\"text-align: right;\">\n",
       "      <th></th>\n",
       "      <th>Date</th>\n",
       "      <th>Price</th>\n",
       "      <th>ordinal</th>\n",
       "      <th>month</th>\n",
       "      <th>month_sin</th>\n",
       "      <th>month_cos</th>\n",
       "    </tr>\n",
       "  </thead>\n",
       "  <tbody>\n",
       "    <tr>\n",
       "      <th>0</th>\n",
       "      <td>2020-10-31</td>\n",
       "      <td>10.1</td>\n",
       "      <td>737729</td>\n",
       "      <td>10</td>\n",
       "      <td>-8.660254e-01</td>\n",
       "      <td>0.500000</td>\n",
       "    </tr>\n",
       "    <tr>\n",
       "      <th>1</th>\n",
       "      <td>2020-11-30</td>\n",
       "      <td>10.3</td>\n",
       "      <td>737759</td>\n",
       "      <td>11</td>\n",
       "      <td>-5.000000e-01</td>\n",
       "      <td>0.866025</td>\n",
       "    </tr>\n",
       "    <tr>\n",
       "      <th>2</th>\n",
       "      <td>2020-12-31</td>\n",
       "      <td>11.0</td>\n",
       "      <td>737790</td>\n",
       "      <td>12</td>\n",
       "      <td>-2.449294e-16</td>\n",
       "      <td>1.000000</td>\n",
       "    </tr>\n",
       "    <tr>\n",
       "      <th>3</th>\n",
       "      <td>2021-01-31</td>\n",
       "      <td>10.9</td>\n",
       "      <td>737821</td>\n",
       "      <td>1</td>\n",
       "      <td>5.000000e-01</td>\n",
       "      <td>0.866025</td>\n",
       "    </tr>\n",
       "    <tr>\n",
       "      <th>4</th>\n",
       "      <td>2021-02-28</td>\n",
       "      <td>10.9</td>\n",
       "      <td>737849</td>\n",
       "      <td>2</td>\n",
       "      <td>8.660254e-01</td>\n",
       "      <td>0.500000</td>\n",
       "    </tr>\n",
       "  </tbody>\n",
       "</table>\n",
       "</div>"
      ],
      "text/plain": [
       "        Date  Price  ordinal  month     month_sin  month_cos\n",
       "0 2020-10-31   10.1   737729     10 -8.660254e-01   0.500000\n",
       "1 2020-11-30   10.3   737759     11 -5.000000e-01   0.866025\n",
       "2 2020-12-31   11.0   737790     12 -2.449294e-16   1.000000\n",
       "3 2021-01-31   10.9   737821      1  5.000000e-01   0.866025\n",
       "4 2021-02-28   10.9   737849      2  8.660254e-01   0.500000"
      ]
     },
     "metadata": {},
     "output_type": "display_data"
    }
   ],
   "source": [
    "def prepare_features_from_columns(df_raw, date_col, price_col):\n",
    "    df = df_raw[[date_col, price_col]].copy()\n",
    "    df.columns = [\"Date\", \"Price\"]\n",
    "    df[\"Date\"] = pd.to_datetime(df[\"Date\"], errors=\"coerce\")\n",
    "    df = df.dropna(subset=[\"Date\"]).sort_values(\"Date\").reset_index(drop=True)\n",
    "    df[\"Price\"] = pd.to_numeric(df[\"Price\"].astype(str).str.replace(r'[^\\d\\.\\-]', '', regex=True), errors=\"coerce\")\n",
    "    df = df.dropna(subset=[\"Price\"]).reset_index(drop=True)\n",
    "    df[\"ordinal\"] = df[\"Date\"].map(pd.Timestamp.toordinal).astype(int)\n",
    "    df[\"month\"] = df[\"Date\"].dt.month\n",
    "    df[\"month_sin\"] = np.sin(2 * np.pi * df[\"month\"] / 12)\n",
    "    df[\"month_cos\"] = np.cos(2 * np.pi * df[\"month\"] / 12)\n",
    "    return df\n",
    "\n",
    "df = prepare_features_from_columns(df_raw, date_col, price_col)\n",
    "print(\"Prepared rows:\", len(df))\n",
    "print(\"Date range:\", df[\"Date\"].min().date(), \"to\", df[\"Date\"].max().date())\n",
    "display(df.head())"
   ]
  },
  {
   "cell_type": "code",
   "execution_count": 112,
   "id": "44fd8108-ae98-4e37-8164-d7a59b087aa4",
   "metadata": {},
   "outputs": [
    {
     "name": "stdout",
     "output_type": "stream",
     "text": [
      "Validation MAE: 0.338, RMSE: 0.156\n"
     ]
    }
   ],
   "source": [
    "# Split by time\n",
    "split_idx = int(len(df) * 0.8)\n",
    "X_train = df[[\"ordinal\", \"month_sin\", \"month_cos\"]].iloc[:split_idx]\n",
    "y_train = df[\"Price\"].iloc[:split_idx]\n",
    "X_val = df[[\"ordinal\", \"month_sin\", \"month_cos\"]].iloc[split_idx:]\n",
    "y_val = df[\"Price\"].iloc[split_idx:]\n",
    "\n",
    "# Train Gradient Boosting model\n",
    "model = GradientBoostingRegressor(\n",
    "    n_estimators=1000, learning_rate=0.03, max_depth=3, random_state=42\n",
    ")\n",
    "model.fit(X_train, y_train)\n",
    "\n",
    "# Validation performance\n",
    "y_pred_val = model.predict(X_val)\n",
    "mae = mean_absolute_error(y_val, y_pred_val)\n",
    "rmse = mean_squared_error(y_val, y_pred_val)\n",
    "print(f\"Validation MAE: {mae:.3f}, RMSE: {rmse:.3f}\")\n"
   ]
  },
  {
   "cell_type": "code",
   "execution_count": 113,
   "id": "6ebb3037-06c0-4220-8f22-9d3ccc0442f7",
   "metadata": {},
   "outputs": [],
   "source": [
    "# Generate next 1 year of daily dates\n",
    "last_date = df[\"Date\"].max()\n",
    "future_dates = pd.date_range(start=last_date + pd.Timedelta(days=1), periods=365, freq=\"D\")\n",
    "\n",
    "# Prepare features for those future dates\n",
    "def make_feature_row(dates):\n",
    "    s = pd.Series(pd.to_datetime(dates))\n",
    "    df_f = pd.DataFrame({\"Date\": s})\n",
    "    df_f[\"ordinal\"] = df_f[\"Date\"].map(pd.Timestamp.toordinal).astype(int)\n",
    "    df_f[\"month\"] = df_f[\"Date\"].dt.month\n",
    "    df_f[\"month_sin\"] = np.sin(2 * np.pi * df_f[\"month\"] / 12)\n",
    "    df_f[\"month_cos\"] = np.cos(2 * np.pi * df_f[\"month\"] / 12)\n",
    "    return df_f[[\"ordinal\", \"month_sin\", \"month_cos\"]]\n",
    "\n",
    "X_future = make_feature_row(future_dates)\n",
    "y_future_pred = model.predict(X_future)\n"
   ]
  },
  {
   "cell_type": "code",
   "execution_count": 114,
   "id": "2043f9e2-f9a8-48dc-835d-802792aa281d",
   "metadata": {},
   "outputs": [
    {
     "data": {
      "image/png": "[encoded data removed]",
      "text/plain": [
       "<Figure size 1400x600 with 1 Axes>"
      ]
     },
     "metadata": {},
     "output_type": "display_data"
    }
   ],
   "source": [
    "# Predicted (fitted) values for historical data\n",
    "df[\"Predicted\"] = model.predict(df[[\"ordinal\", \"month_sin\", \"month_cos\"]])\n",
    "\n",
    "plt.style.use(\"seaborn-v0_8-whitegrid\")\n",
    "fig, ax = plt.subplots(figsize=(14,6))\n",
    "\n",
    "# Actual prices\n",
    "ax.scatter(df[\"Date\"], df[\"Price\"], color=\"#1f77b4\", label=\"Observed Price\", s=40)\n",
    "\n",
    "# Fitted line\n",
    "ax.plot(df[\"Date\"], df[\"Predicted\"], color=\"#ff7f0e\", linewidth=2, label=\"Model Fit\")\n",
    "\n",
    "# Future forecast\n",
    "ax.plot(future_dates, y_future_pred, color=\"#2ca02c\", linestyle=\"--\", linewidth=2, label=\"1-Year Forecast\")\n",
    "\n",
    "ax.set_title(\"Natural Gas Prices: Historical Data and 1-Year Forecast\", fontsize=16, weight=\"bold\")\n",
    "ax.set_xlabel(\"Date\")\n",
    "ax.set_ylabel(\"Price (USD per MMBtu)\")\n",
    "ax.legend()\n",
    "plt.tight_layout()\n",
    "plt.show()\n"
   ]
  },
  {
   "cell_type": "code",
   "execution_count": 115,
   "id": "69075861-2a34-45f8-b367-6d4f03762f55",
   "metadata": {},
   "outputs": [],
   "source": [
    "residuals = y_val - y_pred_val\n",
    "resid_std = residuals.std(ddof=1)\n",
    "\n",
    "def estimate_price_for_date(date_string):\n",
    "    date = pd.to_datetime(date_string, errors=\"coerce\")\n",
    "    if pd.isna(date):\n",
    "        raise ValueError(\"Invalid date format. Use 'YYYY-MM-DD'.\")\n",
    "    X_in = make_feature_row([date])\n",
    "    pred = model.predict(X_in)[0]\n",
    "    lower = pred - 1.96 * resid_std\n",
    "    upper = pred + 1.96 * resid_std\n",
    "    print(f\"Estimated price on {date.date()}: {pred:.3f} USD/MMBtu (95% CI: {lower:.3f} - {upper:.3f})\")\n",
    "    return {\"date\": date.date(), \"estimate\": pred, \"lower_95\": lower, \"upper_95\": upper}\n"
   ]
  },
  {
   "cell_type": "code",
   "execution_count": 116,
   "id": "e91f9344-8cd0-47e2-89ea-63dfda363156",
   "metadata": {},
   "outputs": [
    {
     "name": "stdout",
     "output_type": "stream",
     "text": [
      "Estimated price on 2023-07-31: 11.399 USD/MMBtu (95% CI: 10.956 - 11.842)\n",
      "Estimated price on 2025-08-01: 11.245 USD/MMBtu (95% CI: 10.802 - 11.688)\n"
     ]
    },
    {
     "data": {
      "text/plain": [
       "{'date': datetime.date(2025, 8, 1),\n",
       " 'estimate': np.float64(11.24523770148279),\n",
       " 'lower_95': np.float64(10.802046672632812),\n",
       " 'upper_95': np.float64(11.688428730332767)}"
      ]
     },
     "execution_count": 116,
     "metadata": {},
     "output_type": "execute_result"
    }
   ],
   "source": [
    "estimate_price_for_date(\"2023-07-31\")  # past date\n",
    "estimate_price_for_date(\"2025-08-01\")  # 1 year into the future\n"
   ]
  },
  {
   "cell_type": "code",
   "execution_count": null,
   "id": "000768c8-c52d-4f7b-8105-02f2a7de46e7",
   "metadata": {},
   "outputs": [],
   "source": []
  }
 ],
 "metadata": {
  "kernelspec": {
   "display_name": "Python 3 (ipykernel)",
   "language": "python",
   "name": "python3"
  },
  "language_info": {
   "codemirror_mode": {
    "name": "ipython",
    "version": 3
   },
   "file_extension": ".py",
   "mimetype": "text/x-python",
   "name": "python",
   "nbconvert_exporter": "python",
   "pygments_lexer": "ipython3",
   "version": "3.13.5"
  }
 },
 "nbformat": 4,
 "nbformat_minor": 5
}
